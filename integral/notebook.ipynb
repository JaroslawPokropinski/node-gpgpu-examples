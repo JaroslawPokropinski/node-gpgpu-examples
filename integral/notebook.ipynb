{
  "cells": [
    {
      "cell_type": "code",
      "source": [
        "!sudo apt update\n",
        "!sudo apt purge *nvidia* -y\n",
        "!sudo DEBIAN_FRONTEND=noninteractive apt install nvidia-driver-530 -y"
      ],
      "metadata": {
        "id": "yLL-JBmr8-48"
      },
      "execution_count": null,
      "outputs": []
    },
    {
      "cell_type": "code",
      "execution_count": null,
      "metadata": {
        "id": "-8v48N5588VJ"
      },
      "outputs": [],
      "source": [
        "!git clone https://github.com/JaroslawPokropinski/node-gpgpu-examples\n",
        "%cd node-gpgpu-examples/integral\n",
        "!npm i -g yarn\n",
        "!yarn"
      ]
    },
    {
      "cell_type": "code",
      "execution_count": null,
      "metadata": {
        "id": "dZH6hz7R88VL"
      },
      "outputs": [],
      "source": [
        "!npm start\n"
      ]
    }
  ],
  "metadata": {
    "kernelspec": {
      "display_name": "Python 3",
      "name": "python3"
    },
    "language_info": {
      "codemirror_mode": {
        "name": "ipython",
        "version": 3
      },
      "file_extension": ".py",
      "mimetype": "text/x-python",
      "name": "python",
      "nbconvert_exporter": "python",
      "pygments_lexer": "ipython3",
      "version": "3.9.5"
    },
    "orig_nbformat": 4,
    "vscode": {
      "interpreter": {
        "hash": "6ed30448b9463934efe12905b364a50d3c5694e71a33b71c70212ff6635e753a"
      }
    },
    "colab": {
      "provenance": [],
      "gpuType": "T4"
    },
    "accelerator": "GPU"
  },
  "nbformat": 4,
  "nbformat_minor": 0
}