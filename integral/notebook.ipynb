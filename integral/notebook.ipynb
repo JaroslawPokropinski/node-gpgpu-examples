{
 "cells": [
  {
   "cell_type": "code",
   "execution_count": null,
   "metadata": {},
   "outputs": [],
   "source": [
    "!git clone https://github.com/JaroslawPokropinski/node-gpgpu-examples\n",
    "%cd node-gpgpu-examples/integral\n",
    "!npm i -g pnpm\n",
    "!pnpm i"
   ]
  },
  {
   "cell_type": "code",
   "execution_count": null,
   "metadata": {},
   "outputs": [],
   "source": [
    "!npm start\n"
   ]
  }
 ],
 "metadata": {
  "kernelspec": {
   "display_name": "Python 3.9.5 ('tensorflow')",
   "language": "python",
   "name": "python3"
  },
  "language_info": {
   "codemirror_mode": {
    "name": "ipython",
    "version": 3
   },
   "file_extension": ".py",
   "mimetype": "text/x-python",
   "name": "python",
   "nbconvert_exporter": "python",
   "pygments_lexer": "ipython3",
   "version": "3.9.5"
  },
  "orig_nbformat": 4,
  "vscode": {
   "interpreter": {
    "hash": "6ed30448b9463934efe12905b364a50d3c5694e71a33b71c70212ff6635e753a"
   }
  }
 },
 "nbformat": 4,
 "nbformat_minor": 2
}
