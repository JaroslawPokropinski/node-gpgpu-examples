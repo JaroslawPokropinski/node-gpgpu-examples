{
 "cells": [
  {
   "cell_type": "code",
   "execution_count": 1,
   "metadata": {},
   "outputs": [
    {
     "name": "stdout",
     "output_type": "stream",
     "text": [
      "\n",
      "added 12 packages, and audited 13 packages in 13s\n",
      "\n",
      "found 0 vulnerabilities\n"
     ]
    },
    {
     "name": "stderr",
     "output_type": "stream",
     "text": [
      "npm WARN deprecated uuid@3.4.0: Please upgrade  to version 7 or higher.  Older versions may use Math.random() in certain circumstances, which is known to be problematic.  See https://v8.dev/blog/math-random for details.\n",
      "npm WARN deprecated uuid@3.4.0: Please upgrade  to version 7 or higher.  Older versions may use Math.random() in certain circumstances, which is known to be problematic.  See https://v8.dev/blog/math-random for details.\n"
     ]
    }
   ],
   "source": [
    "!npm install -g --unsafe-perm itypescript\n",
    "!its --install=global"
   ]
  },
  {
   "cell_type": "code",
   "execution_count": 3,
   "metadata": {},
   "outputs": [
    {
     "name": "stdout",
     "output_type": "stream",
     "text": [
      "\n",
      "changed 1 package, and audited 2 packages in 2s\n",
      "\n",
      "1 package is looking for funding\n",
      "  run `npm fund` for details\n",
      "\n",
      "found 0 vulnerabilities\n",
      "Lockfile is up-to-date, resolution step is skipped\n",
      "Already up-to-date\n",
      "\n"
     ]
    }
   ],
   "source": [
    "!git clone https://github.com/JaroslawPokropinski/node-gpgpu-examples\n",
    "%cd node-gpgpu-examples/integral\n",
    "!npm i -g pnpm\n",
    "!pnpm i"
   ]
  },
  {
   "cell_type": "code",
   "execution_count": null,
   "metadata": {},
   "outputs": [],
   "source": [
    "import {\n",
    "  Gpgpu,\n",
    "  KernelContext,\n",
    "  Types,\n",
    "  kernelEntry,\n",
    "  kernelFunction,\n",
    "} from \"node-gpgpu\";\n",
    "\n",
    "async function main() {\n",
    "  const n = 2000;\n",
    "  const iter = 216;\n",
    "  const gpgpu = new Gpgpu();\n",
    "\n",
    "  class PiIntegralKernel extends KernelContext {\n",
    "    @kernelFunction(Types.number, [Types.number])\n",
    "    f(x: number) {\n",
    "      return 2 * this.sqrt(1 - x * x);\n",
    "    }\n",
    "\n",
    "    @kernelEntry([\n",
    "      { type: \"Float32Array\", readWrite: \"write\" },\n",
    "      {\n",
    "        type: \"Object\",\n",
    "        readWrite: \"read\",\n",
    "        shapeObj: { n: Types.number, iter: Types.number },\n",
    "      },\n",
    "    ])\n",
    "    main(c: Float32Array, opt: { n: number; iter: number }) {\n",
    "      const id = this.get_global_id(0);\n",
    "\n",
    "      c[id] = 0.0;\n",
    "      for (let i = id * opt.iter; i < (id + 1) * opt.iter; i += 1) {\n",
    "        const dx = 2 / (opt.n * opt.iter);\n",
    "        const x1 = dx * i - 1;\n",
    "        const x2 = dx * (i + 1) - 1;\n",
    "\n",
    "        c[id] += (this.f(x2) + this.f(x1)) * 0.5 * dx;\n",
    "      }\n",
    "    }\n",
    "  }\n",
    "\n",
    "  const k = gpgpu.createKernel(PiIntegralKernel).setSize([2000], [10]);\n",
    "  const c = new Float32Array(n);\n",
    "\n",
    "  await k(c, { n, iter });\n",
    "  const res = c.reduce((prev, curr) => prev + curr);\n",
    "  console.log(`Result: ${res}`);\n",
    "}\n",
    "\n",
    "main();\n"
   ]
  }
 ],
 "metadata": {
  "kernelspec": {
   "display_name": "Typescript",
   "language": "typescript",
   "name": "typescript"
  },
  "language_info": {
   "codemirror_mode": {
    "name": "ipython",
    "version": 3
   },
   "file_extension": ".py",
   "mimetype": "text/x-python",
   "name": "python",
   "nbconvert_exporter": "python",
   "pygments_lexer": "ipython3",
   "version": "3.9.5"
  },
  "orig_nbformat": 4,
  "vscode": {
   "interpreter": {
    "hash": "6ed30448b9463934efe12905b364a50d3c5694e71a33b71c70212ff6635e753a"
   }
  }
 },
 "nbformat": 4,
 "nbformat_minor": 2
}
