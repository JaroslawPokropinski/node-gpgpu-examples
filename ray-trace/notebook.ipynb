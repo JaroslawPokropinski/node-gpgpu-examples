{
 "cells": [
  {
   "cell_type": "code",
   "execution_count": 4,
   "metadata": {},
   "outputs": [
    {
     "name": "stdout",
     "output_type": "stream",
     "text": [
      "Lockfile is up-to-date, resolution step is skipped\n",
      "Progress: resolved 1, reused 0, downloaded 0, added 0\n",
      "Packages: +113\n",
      "++++++++++++++++++++++++++++++++++++++++++++++++++++++++++++++++++++++++++++++++\n",
      "Packages are hard linked from the content-addressable store to the virtual store.\n",
      "  Content-addressable store is at: e:\\.pnpm-store\\v3\n",
      "  Virtual store is at:             node_modules/.pnpm\n",
      "Progress: resolved 113, reused 112, downloaded 0, added 112\n",
      "Progress: resolved 113, reused 112, downloaded 1, added 112\n",
      ".../node_modules/gpgpu install$ prebuild-install -r napi --backend cmake-js || cmake-js rebuild\n",
      ".../node_modules/gpgpu install: Done\n",
      "\n",
      "dependencies:\n",
      "+ canvas 2.9.1\n",
      "+ filereader 0.10.3\n",
      "+ gpgpu 0.0.4\n",
      "\n",
      "devDependencies:\n",
      "+ @types/node 18.0.0\n",
      "+ ts-node 10.8.1\n",
      "+ typescript 4.7.4\n",
      "\n",
      "Progress: resolved 113, reused 112, downloaded 1, added 113, done\n"
     ]
    }
   ],
   "source": [
    "!pnpm i"
   ]
  },
  {
   "cell_type": "code",
   "execution_count": 5,
   "metadata": {},
   "outputs": [
    {
     "name": "stdout",
     "output_type": "stream",
     "text": [
      "\n",
      "> ray-trace@1.0.0 start\n",
      "> ts-node index.ts \"1\"\n",
      "\n"
     ]
    },
    {
     "name": "stderr",
     "output_type": "stream",
     "text": [
      "npm WARN config global `--global`, `--local` are deprecated. Use `--location=global` instead.\n"
     ]
    }
   ],
   "source": [
    "!npm start -- 1\n"
   ]
  },
  {
   "cell_type": "code",
   "execution_count": null,
   "metadata": {},
   "outputs": [],
   "source": [
    "from IPython.display import display\n",
    "from PIL import Image\n",
    "\n",
    "display(Image.open('./image.png'))"
   ]
  }
 ],
 "metadata": {
  "kernelspec": {
   "display_name": "Python 3.9.5 ('tensorflow')",
   "language": "python",
   "name": "python3"
  },
  "language_info": {
   "codemirror_mode": {
    "name": "ipython",
    "version": 3
   },
   "file_extension": ".py",
   "mimetype": "text/x-python",
   "name": "python",
   "nbconvert_exporter": "python",
   "pygments_lexer": "ipython3",
   "version": "3.9.5"
  },
  "orig_nbformat": 4,
  "vscode": {
   "interpreter": {
    "hash": "6ed30448b9463934efe12905b364a50d3c5694e71a33b71c70212ff6635e753a"
   }
  }
 },
 "nbformat": 4,
 "nbformat_minor": 2
}
